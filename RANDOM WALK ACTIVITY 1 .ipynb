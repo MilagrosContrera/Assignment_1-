{
 "cells": [
  {
   "cell_type": "markdown",
   "id": "cbdf07b5",
   "metadata": {},
   "source": [
    "# RANDOM WALK ACTIVITY 1 "
   ]
  },
  {
   "cell_type": "markdown",
   "id": "734e490e",
   "metadata": {},
   "source": [
    "In mathematics, a random walk, sometimes known as a drunkard's walk, is a stochastic process that describes a path that consists of a succession of random steps on some mathematical space.\n",
    "\n",
    "An elementary example of a random walk is the random walk on the integer number line  𝑍\n",
    "  which starts at  0\n",
    " , and at each step moves  +1\n",
    "  or  −1\n",
    "  with equal probability."
   ]
  },
  {
   "cell_type": "markdown",
   "id": "67b161b5",
   "metadata": {},
   "source": [
    "# MODULES"
   ]
  },
  {
   "cell_type": "code",
   "execution_count": 1,
   "id": "4e8c6591",
   "metadata": {},
   "outputs": [],
   "source": [
    "import numpy as np\n",
    "from scipy.stats import cauchy\n",
    "import plotly.express as px"
   ]
  },
  {
   "cell_type": "markdown",
   "id": "2add25e2",
   "metadata": {},
   "source": [
    "Defining the Vec2d class\n",
    "A vector in 2D space."
   ]
  },
  {
   "cell_type": "code",
   "execution_count": 2,
   "id": "2ccf7d9d",
   "metadata": {},
   "outputs": [],
   "source": [
    "class Vec2d:\n",
    "    def __init__(self, x, y):\n",
    "        self.x = x\n",
    "        self.y = y\n",
    "\n",
    "    def __add__(self, other):\n",
    "        return Vec2d(self.x + other.x, self.y + other.y)\n",
    "\n",
    "    def __mul__(self, scalar):\n",
    "        return Vec2d(self.x * scalar, self.y * scalar)\n",
    "\n",
    "    def __repr__(self):\n",
    "        return f\"Vec2d({self.x}, {self.y})\""
   ]
  },
  {
   "cell_type": "markdown",
   "id": "ed09b3a3",
   "metadata": {},
   "source": [
    "Generate the Cauchy distribution and initializing the trajectory\n",
    "\n",
    "The probability density function for cauchy is\n",
    "\n",
    "$$f(x) = 1/ \\pi (1+x^2)$$\n",
    "\n",
    "for a real number $x$.\n",
    "\n",
    "The above probability density is defined in a “standardized” form. The loc and scale parameters are used to shift or scale the distribution."
   ]
  },
  {
   "cell_type": "code",
   "execution_count": 3,
   "id": "6542b0ac",
   "metadata": {},
   "outputs": [],
   "source": [
    "n_steps = 1000\n",
    "rotations = cauchy.rvs(loc=0, scale=0.7, size=n_steps)\n",
    "\n",
    "trajectory = np.zeros((n_steps, 2)) # Initialize the trajectory array\n",
    "trajectory[0] = [0, 0] #set the initial position of the random walk"
   ]
  },
  {
   "cell_type": "code",
   "execution_count": null,
   "id": "4f0e6f07",
   "metadata": {},
   "outputs": [],
   "source": []
  }
 ],
 "metadata": {
  "kernelspec": {
   "display_name": "Python 3 (ipykernel)",
   "language": "python",
   "name": "python3"
  },
  "language_info": {
   "codemirror_mode": {
    "name": "ipython",
    "version": 3
   },
   "file_extension": ".py",
   "mimetype": "text/x-python",
   "name": "python",
   "nbconvert_exporter": "python",
   "pygments_lexer": "ipython3",
   "version": "3.10.9"
  }
 },
 "nbformat": 4,
 "nbformat_minor": 5
}
