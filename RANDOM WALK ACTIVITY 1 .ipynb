{
 "cells": [
  {
   "cell_type": "markdown",
   "id": "ad185630",
   "metadata": {},
   "source": [
    "# RANDOM WALK ACTIVITY 1 "
   ]
  },
  {
   "cell_type": "markdown",
   "id": "4f61ae8c",
   "metadata": {},
   "source": [
    "In mathematics, a random walk, sometimes known as a drunkard's walk, is a stochastic process that describes a path that consists of a succession of random steps on some mathematical space.\n",
    "\n",
    "An elementary example of a random walk is the random walk on the integer number line  𝑍\n",
    "  which starts at  0\n",
    " , and at each step moves  +1\n",
    "  or  −1\n",
    "  with equal probability."
   ]
  },
  {
   "cell_type": "markdown",
   "id": "8725affd",
   "metadata": {},
   "source": [
    "# MODULES"
   ]
  },
  {
   "cell_type": "code",
   "execution_count": 1,
   "id": "f8207caa",
   "metadata": {},
   "outputs": [],
   "source": [
    "import numpy as np\n",
    "from scipy.stats import cauchy\n",
    "import plotly.express as px"
   ]
  },
  {
   "cell_type": "markdown",
   "id": "0c81d794",
   "metadata": {},
   "source": [
    "Defining the Vec2d class\n",
    "A vector in 2D space."
   ]
  },
  {
   "cell_type": "code",
   "execution_count": 2,
   "id": "281c03f4",
   "metadata": {},
   "outputs": [],
   "source": [
    "class Vec2d:\n",
    "    def __init__(self, x, y):\n",
    "        self.x = x\n",
    "        self.y = y\n",
    "\n",
    "    def __add__(self, other):\n",
    "        return Vec2d(self.x + other.x, self.y + other.y)\n",
    "\n",
    "    def __mul__(self, scalar):\n",
    "        return Vec2d(self.x * scalar, self.y * scalar)\n",
    "\n",
    "    def __repr__(self):\n",
    "        return f\"Vec2d({self.x}, {self.y})\""
   ]
  },
  {
   "cell_type": "markdown",
   "id": "c59965ff",
   "metadata": {},
   "source": [
    "Generate the Cauchy distribution and initializing the trajectory\n",
    "\n",
    "The probability density function for cauchy is\n",
    "\n",
    "$$f(x) = 1/ \\pi (1+x^2)$$\n",
    "\n",
    "for a real number $x$.\n",
    "\n",
    "The above probability density is defined in a “standardized” form. The loc and scale parameters are used to shift or scale the distribution."
   ]
  },
  {
   "cell_type": "code",
   "execution_count": 3,
   "id": "6d5a6dbb",
   "metadata": {},
   "outputs": [],
   "source": [
    "n_steps = 1000\n",
    "rotations = cauchy.rvs(loc=0, scale=0.7, size=n_steps)\n",
    "\n",
    "trajectory = np.zeros((n_steps, 2)) # Initialize the trajectory array\n",
    "trajectory[0] = [0, 0] #set the initial position of the random walk"
   ]
  },
  {
   "cell_type": "markdown",
   "id": "f1316a81",
   "metadata": {},
   "source": [
    "Implementing the correlated random walk using the Vec2d class\n",
    "Let say $X(t)$ define a path starting at position $X(0) = X_0$ . A random walk is modeled by the following expression\n",
    "$$X(t + τ) = X (t) + Φ( τ)$$\n",
    "where $Φ$ is the random variable describing the probability law for taking the next step and $τ$ is the time interval between subsequent steps.\n",
    "\n",
    "The line \"new_pos = prev_pos + Vec2d(np.cos(rotation), np.sin(rotation))\" corresponds to the expression $X(t + τ) = X(t) + Φ(τ)$.\n",
    "\n",
    "Where\n",
    "\n",
    "\n",
    "*   prev_pos represents $X(t)$, the current position at time $t$.\n",
    "*   Vec2d(np.cos(rotation), np.sin(rotation)) represents $Φ(τ)$, the random variable describing the next step. The rotation variable is drawn from the Cauchy distribution, and np.cos(rotation) and np.sin(rotation) are used to compute the x and y components of the next step, respectively.\n",
    "*    The $+$ operator is overloaded in the Vec2d class to perform vector addition, so prev_pos + Vec2d(np.cos(rotation), np.sin(rotation)) computes the new position $X(t + τ)$ by adding the current position $X(t)$ and the random step $Φ(τ)$\n"
   ]
  },
  {
   "cell_type": "code",
   "execution_count": 4,
   "id": "f6162267",
   "metadata": {},
   "outputs": [],
   "source": [
    "for i in range(1, n_steps):\n",
    "    rotation = rotations[i-1]\n",
    "    prev_pos = Vec2d(*trajectory[i-1])\n",
    "    new_pos = prev_pos + Vec2d(np.cos(rotation), np.sin(rotation))\n",
    "    trajectory[i] = [new_pos.x, new_pos.y]"
   ]
  },
  {
   "cell_type": "code",
   "execution_count": null,
   "id": "d9a41f6d",
   "metadata": {},
   "outputs": [],
   "source": []
  }
 ],
 "metadata": {
  "kernelspec": {
   "display_name": "Python 3 (ipykernel)",
   "language": "python",
   "name": "python3"
  },
  "language_info": {
   "codemirror_mode": {
    "name": "ipython",
    "version": 3
   },
   "file_extension": ".py",
   "mimetype": "text/x-python",
   "name": "python",
   "nbconvert_exporter": "python",
   "pygments_lexer": "ipython3",
   "version": "3.10.9"
  }
 },
 "nbformat": 4,
 "nbformat_minor": 5
}
