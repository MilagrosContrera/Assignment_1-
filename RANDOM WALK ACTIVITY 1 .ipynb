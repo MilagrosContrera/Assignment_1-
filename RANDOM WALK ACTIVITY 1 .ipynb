{
 "cells": [
  {
   "cell_type": "markdown",
   "id": "e84e099d",
   "metadata": {},
   "source": [
    "# RANDOM WALK ACTIVITY 1 "
   ]
  },
  {
   "cell_type": "markdown",
   "id": "46794aa8",
   "metadata": {},
   "source": [
    "In mathematics, a random walk, sometimes known as a drunkard's walk, is a stochastic process that describes a path that consists of a succession of random steps on some mathematical space.\n",
    "\n",
    "An elementary example of a random walk is the random walk on the integer number line  𝑍\n",
    "  which starts at  0\n",
    " , and at each step moves  +1\n",
    "  or  −1\n",
    "  with equal probability."
   ]
  },
  {
   "cell_type": "markdown",
   "id": "99b87219",
   "metadata": {},
   "source": [
    "# MODULES"
   ]
  },
  {
   "cell_type": "code",
   "execution_count": 1,
   "id": "6e3b3c3b",
   "metadata": {},
   "outputs": [],
   "source": [
    "import numpy as np\n",
    "from scipy.stats import cauchy\n",
    "import plotly.express as px"
   ]
  },
  {
   "cell_type": "markdown",
   "id": "feea695f",
   "metadata": {},
   "source": [
    "Defining the Vec2d class\n",
    "A vector in 2D space."
   ]
  },
  {
   "cell_type": "code",
   "execution_count": 2,
   "id": "4de695ae",
   "metadata": {},
   "outputs": [],
   "source": [
    "class Vec2d:\n",
    "    def __init__(self, x, y):\n",
    "        self.x = x\n",
    "        self.y = y\n",
    "\n",
    "    def __add__(self, other):\n",
    "        return Vec2d(self.x + other.x, self.y + other.y)\n",
    "\n",
    "    def __mul__(self, scalar):\n",
    "        return Vec2d(self.x * scalar, self.y * scalar)\n",
    "\n",
    "    def __repr__(self):\n",
    "        return f\"Vec2d({self.x}, {self.y})\""
   ]
  },
  {
   "cell_type": "code",
   "execution_count": null,
   "id": "2b1d167a",
   "metadata": {},
   "outputs": [],
   "source": []
  }
 ],
 "metadata": {
  "kernelspec": {
   "display_name": "Python 3 (ipykernel)",
   "language": "python",
   "name": "python3"
  },
  "language_info": {
   "codemirror_mode": {
    "name": "ipython",
    "version": 3
   },
   "file_extension": ".py",
   "mimetype": "text/x-python",
   "name": "python",
   "nbconvert_exporter": "python",
   "pygments_lexer": "ipython3",
   "version": "3.10.9"
  }
 },
 "nbformat": 4,
 "nbformat_minor": 5
}
