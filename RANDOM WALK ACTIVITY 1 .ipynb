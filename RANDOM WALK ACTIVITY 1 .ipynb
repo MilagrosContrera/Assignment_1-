{
 "cells": [
  {
   "cell_type": "markdown",
   "id": "2179a0b4",
   "metadata": {},
   "source": [
    "# RANDOM WALK ACTIVITY 1 "
   ]
  },
  {
   "cell_type": "markdown",
   "id": "640d8c72",
   "metadata": {},
   "source": [
    "In mathematics, a random walk, sometimes known as a drunkard's walk, is a stochastic process that describes a path that consists of a succession of random steps on some mathematical space.\n",
    "\n",
    "An elementary example of a random walk is the random walk on the integer number line  𝑍\n",
    "  which starts at  0\n",
    " , and at each step moves  +1\n",
    "  or  −1\n",
    "  with equal probability."
   ]
  },
  {
   "cell_type": "markdown",
   "id": "4c024e3d",
   "metadata": {},
   "source": [
    "# MODULES"
   ]
  },
  {
   "cell_type": "code",
   "execution_count": 1,
   "id": "b976d297",
   "metadata": {},
   "outputs": [],
   "source": [
    "import numpy as np\n",
    "from scipy.stats import cauchy\n",
    "import plotly.express as px"
   ]
  },
  {
   "cell_type": "code",
   "execution_count": null,
   "id": "3d317548",
   "metadata": {},
   "outputs": [],
   "source": []
  }
 ],
 "metadata": {
  "kernelspec": {
   "display_name": "Python 3 (ipykernel)",
   "language": "python",
   "name": "python3"
  },
  "language_info": {
   "codemirror_mode": {
    "name": "ipython",
    "version": 3
   },
   "file_extension": ".py",
   "mimetype": "text/x-python",
   "name": "python",
   "nbconvert_exporter": "python",
   "pygments_lexer": "ipython3",
   "version": "3.10.9"
  }
 },
 "nbformat": 4,
 "nbformat_minor": 5
}
